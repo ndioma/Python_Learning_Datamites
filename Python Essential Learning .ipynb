{
 "cells": [
  {
   "cell_type": "markdown",
   "metadata": {},
   "source": [
    "# Datetime Package \n",
    "\n"
   ]
  },
  {
   "cell_type": "code",
   "execution_count": 46,
   "metadata": {},
   "outputs": [],
   "source": [
    " # imports datetime subfunction date to the current session \n",
    "from datetime import date \n",
    "\n",
    "# imports datetime subpackage from Datetime main package \n",
    "from datetime import datetime\n",
    "# import sub package of datetime date so you can call the date function directly \n",
    "\n",
    "from datetime import date\n",
    "# datetime.date.now()\n",
    "# date.now()\n",
    "\n",
    "# Import timedelta \n",
    "\n",
    "from datetime import timedelta\n",
    "# Import time \n",
    "from datetime import time\n",
    "\n"
   ]
  },
  {
   "cell_type": "code",
   "execution_count": 35,
   "metadata": {},
   "outputs": [
    {
     "name": "stdout",
     "output_type": "stream",
     "text": [
      "1993\n",
      "11\n",
      "12\n",
      "9920 days, 0:00:00\n",
      "2021-03-30\n"
     ]
    }
   ],
   "source": [
    "\n",
    "#Gets today date \n",
    "date.today()\n",
    "Birthdate = date(1993,11,12)\n",
    "\n",
    "# Print year from birthdate \n",
    "print(Birthdate.year)\n",
    "\n",
    "# Print month  from birthdate \n",
    "print(Birthdate.month)\n",
    "\n",
    "# Print day from birthdate \n",
    "print(Birthdate.day )\n",
    "\n",
    "# Now function returns YYYY-MM-DD-HH-MM-SS-MS\n",
    "datetime.now()\n",
    "\n",
    "# Subtracting dates from date \n",
    "\n",
    "print(date.today()-Birthdate)\n",
    "\n",
    "# Timedelta adss 80 day to the current date \n",
    "print(date.today()+ timedelta(+80))\n",
    "\n"
   ]
  },
  {
   "cell_type": "markdown",
   "metadata": {},
   "source": [
    "# ##TypeCasting"
   ]
  },
  {
   "cell_type": "code",
   "execution_count": 52,
   "metadata": {},
   "outputs": [
    {
     "data": {
      "text/plain": [
       "'6The Answer is true'"
      ]
     },
     "execution_count": 52,
     "metadata": {},
     "output_type": "execute_result"
    }
   ],
   "source": [
    "# Type Casting \n",
    "str(3) + 'Three times'\n",
    "float(4)\n",
    "int(5.6)\n",
    "str(6) + 'The Answer is true'"
   ]
  },
  {
   "cell_type": "markdown",
   "metadata": {},
   "source": [
    "# Conditional Statements"
   ]
  },
  {
   "cell_type": "code",
   "execution_count": 76,
   "metadata": {},
   "outputs": [
    {
     "name": "stdout",
     "output_type": "stream",
     "text": [
      "Equals to Zero\n"
     ]
    }
   ],
   "source": [
    "# Variable Declaration \n",
    "x = 0\n",
    "\n",
    "# Conditional logic \n",
    "if x > 0:\n",
    "    print('Positive')\n",
    "elif x == 0:\n",
    "    print('Equals to Zero')\n",
    "else :\n",
    "    print('negative')\n"
   ]
  },
  {
   "cell_type": "markdown",
   "metadata": {},
   "source": [
    "# Python data objects \n",
    "\n",
    "- List \n",
    "- Tuple\n",
    "- Strings\n",
    "- Dictionaries \n",
    "-  Sets \n",
    "- Functions and Sets "
   ]
  },
  {
   "cell_type": "markdown",
   "metadata": {},
   "source": [
    "# List \n",
    "- Can be used to store heterogeneus data immutable "
   ]
  },
  {
   "cell_type": "code",
   "execution_count": 151,
   "metadata": {},
   "outputs": [
    {
     "name": "stdout",
     "output_type": "stream",
     "text": [
      "[28, 9311125755084, 'Chief Data Scientist', '7 Years Experiance', 'Salary 800k PA']\n",
      "[28, 9311125755084]\n",
      "[28, 9311125755084, 'Ndoma', 'Mathagu', 'Randburg']\n"
     ]
    }
   ],
   "source": [
    "# Declaring List \n",
    "My_list = [1,4.5,'Ndoma']\n",
    "My_list\n",
    "\n",
    "Customer = ['Ndoma',28,9311125755084,'Chief Data Scientist']\n",
    "Customer\n",
    "\n",
    "# Print Index \n",
    "Customer[2]\n",
    "\n",
    "# Add indexes to an already defined list \n",
    "\n",
    "Customer.extend(['7 Years Experiance', 'Salary 800k PA'])\n",
    "\n",
    "# Add a single value at the last index \n",
    "\n",
    "Customer.append('Permanent')\n",
    "\n",
    "# Counts number of occurence index number 2 (9311125755084)\n",
    "Customer.count(Customer[2])\n",
    "\n",
    "# Deletes the first index Which is Ndoma \n",
    "Customer.pop(0)\n",
    "\n",
    "# Deletes the last index 'Salary 800 PA'\n",
    "Customer.pop()\n",
    "\n",
    "# Deletes index 1,3,4 \n",
    "print(Customer) \n",
    "\n",
    "# Deletes from index 2 to inifity because theres no specified end point \n",
    "del Customer[2:]\n",
    "\n",
    "print(Customer)\n",
    "\n",
    "# Appends new elements to the end of the  list  \n",
    "Customer.extend(['Ndoma','Mathagu','Randburg'])\n",
    "print(Customer) \n"
   ]
  },
  {
   "cell_type": "markdown",
   "metadata": {},
   "source": [
    "# Strings \n",
    "\n"
   ]
  },
  {
   "cell_type": "code",
   "execution_count": 137,
   "metadata": {},
   "outputs": [
    {
     "name": "stdout",
     "output_type": "stream",
     "text": [
      "N\n",
      "d\n",
      "o\n",
      "m\n",
      "a\n",
      "N\n",
      "Ndo in name\n",
      "XO not in ndoma \n",
      "ndoma\n",
      "NDOMA\n",
      "1\n",
      "True\n",
      "True\n"
     ]
    }
   ],
   "source": [
    "Name = \"Ndoma\"\n",
    "# Get length of string \n",
    "len(Name)\n",
    "\n",
    "#Loop through string \n",
    "\n",
    "for x in Name:\n",
    "    print(x)\n",
    "\n",
    "# Splice a string \n",
    "\n",
    "print(Name[:1])\n",
    "\n",
    "# Conditional logic in strings \n",
    "# in \n",
    "\n",
    "if 'Ndo' in Name :\n",
    "    print('Ndo in name')\n",
    "else :\n",
    "    print ('Ndo not in name')\n",
    "    \n",
    "# Not in\n",
    "    \n",
    "if 'XO' not in Name :\n",
    "    print('XO not in ndoma ')\n",
    "    \n",
    "# Negative indexing \n",
    "\n",
    "Name[-5:-4]\n",
    "\n",
    "# Modify String \n",
    "\n",
    "print(Name.lower())\n",
    "print(Name.upper())\n",
    "print(Name.count(Name))\n",
    "print(Name.endswith('a'))\n",
    "print(Name.lower().islower())\n",
    "\n"
   ]
  },
  {
   "cell_type": "markdown",
   "metadata": {},
   "source": [
    "# Tuples \n",
    "- Immutable heterogeneuos list {}\n"
   ]
  },
  {
   "cell_type": "code",
   "execution_count": 168,
   "metadata": {},
   "outputs": [
    {
     "data": {
      "text/plain": [
       "0"
      ]
     },
     "execution_count": 168,
     "metadata": {},
     "output_type": "execute_result"
    }
   ],
   "source": [
    "# declaring list object \n",
    "\n",
    "marks = (22,77,98)\n",
    "type(marks)\n",
    "\n",
    "# Counts the number of occurences of 22 in the tuple \n",
    "marks.count(22)\n",
    "\n",
    "# Function returns the index of a given tuple value \n",
    "\n",
    "marks.index(22)\n",
    "\n",
    "\n"
   ]
  },
  {
   "cell_type": "markdown",
   "metadata": {},
   "source": [
    "# Dictionaries \n",
    "- Key value pair \n",
    "- heteregeous \n",
    "- muatable\n",
    "\n",
    "Iterating Through Keys Directly\n",
    "Python’s dictionaries are mapping objects. This means that they inherit some special methods, which Python uses internally to perform some operations. These methods are named using the naming convention of adding a double underscore at the beginning of and at the end of the method’s name.\n",
    "\n",
    "To visualize the methods and attributes of any Python object, you can use dir(), which is a built-in function that serves that purpose. If you run dir() with an empty dictionary as an argument, then you’ll be able to see all the methods and attributes that dictionaries implement:"
   ]
  },
  {
   "cell_type": "code",
   "execution_count": 211,
   "metadata": {},
   "outputs": [
    {
     "name": "stdout",
     "output_type": "stream",
     "text": [
      "Ndoma\n",
      "dict_values(['Ndoma', 'Mathagu', 28, 'Chief Data Scientist'])\n",
      "{'mark1': 66, 'mark2': 77, 'mark3': 88}\n",
      "{'mark1': 66, 'mark2': 77, 'mark3': 88}\n",
      "{'mark1': 66, 'mark2': 77, 'mark3': 88}\n",
      "{'mark1': 66, 'mark2': 77, 'mark3': 88}\n",
      "mark1 --> {'mark1': 66, 'mark2': 77, 'mark3': 88}\n",
      "mark2 --> {'mark1': 66, 'mark2': 77, 'mark3': 88}\n",
      "mark3 --> {'mark1': 66, 'mark2': 77, 'mark3': 88}\n"
     ]
    }
   ],
   "source": [
    "daemployee = {'Name':'Ndoma','Surname':'Mathagu','Age':28,'Position':'Chief Data Scientist'}\n",
    "type(employee)\n",
    "\n",
    "# Retrieves the key ('name') value pair 'Ndoma'\n",
    "\n",
    "print(employee.get('Name'))\n",
    "\n",
    "# print the values of the employee dictionary \n",
    "print(employee.values())\n",
    "\n",
    "# Combining to list into a dictionary \n",
    "\n",
    "# List 1\n",
    "keys = ['mark1','mark2','mark3']\n",
    "\n",
    "# List 2 \n",
    "values = [66,77,88]\n",
    "\n",
    "# Create new instance of a dictionary zip function(combine two list into a key value pair dict typecast the zip into a dictionaty\n",
    "data = dict(zip(keys,values))\n",
    "type(keys)\n",
    "print(data)\n",
    "\n",
    "# To visualize the methods and attributes of any Python object, you can use dir()\n",
    "dir({})\n",
    "\n",
    "# Loop \n",
    "\n",
    "for key in data :\n",
    "    print(data)\n",
    "\n",
    "# Getting Key Value pair in a dictionary \n",
    "\n",
    "# If you use this approach along with a small trick, then you can process the keys and values of any dictionary.\n",
    "# The trick consists of using the indexing operator [] with the dictionary and its keys to get access to the values:\n",
    "\n",
    "for key in data :\n",
    "    print(key,'-->', data)\n",
    "    \n",
    "\n",
    "\n"
   ]
  },
  {
   "cell_type": "markdown",
   "metadata": {},
   "source": [
    "# Iterating Through .items()\n",
    "\n",
    "When you’re working with dictionaries, it’s likely that you’ll want to work with both the keys and the values. One of the most useful ways to iterate through a dictionary in Python is by using .items(), which is a method that returns a new view of the dictionary’s items:\n",
    "\n",
    " a_dict = {'color': 'blue', 'fruit': 'apple', 'pet': 'dog'}\n",
    " d_items = a_dict.items()\n",
    " d_items  # Here d_items is a view of items\n",
    " dict_items([('color', 'blue'), ('fruit', 'apple'), ('pet', 'dog')])\n",
    "\n",
    "Dictionary views like d_items provide a dynamic view on the dictionary’s entries, which means that when the dictionary  changes, the views reflect these changes.\n",
    "\n",
    "Views can be iterated over to yield their respective data, so you can iterate through a dictionary in Python by using the view object returned by .items():"
   ]
  },
  {
   "cell_type": "code",
   "execution_count": 222,
   "metadata": {},
   "outputs": [
    {
     "name": "stdout",
     "output_type": "stream",
     "text": [
      "('Make', 'Reanault')\n",
      "('Type', 'Clio')\n",
      "('Engine', 'Petrol')\n",
      "('Price', 'R 160 000')\n"
     ]
    }
   ],
   "source": [
    "# initialise new dictionary \n",
    "vehicle = {'Make':'Reanault','Type':'Clio','Engine':'Petrol','Price':'R 160 000'}\n",
    "\n",
    "type(vehicle)\n",
    "\n",
    "vehicle_item = vehicle.items()\n",
    "\n",
    "vehicle_item # Here d_items is a view of items\n",
    "\n",
    "# Dictionary views like d_items provide a dynamic view on the dictionary’s entries, which means that when the dictionary changes, the views reflect these changes.\n",
    "\n",
    "# Views can be iterated over to yield their respective data, so you can iterate through a dictionary in Python by using the view object returned by .items():\n",
    "\n",
    "for item in vehicle.items():\n",
    "    print(item)\n",
    "    \n",
    "    "
   ]
  },
  {
   "cell_type": "markdown",
   "metadata": {},
   "source": [
    "Dictionary views like d_items provide a dynamic view on the dictionary’s entries, which means that when the dictionary changes, the views reflect these changes.\n",
    "\n",
    "Views can be iterated over to yield their respective data, so you can iterate through a dictionary in Python by using the view object returned by .items():\n",
    "\n",
    " for item in a_dict.items():\n",
    "     print(item)\n",
    "\n",
    "('color', 'blue')\n",
    "('fruit', 'apple')\n",
    "('pet', 'dog')\n",
    "The view object returned by .items() yields the key-value pairs one at a time and allows you to iterate through a dictionary in Python, but in such a way that you get access to the keys and values at the same time.\n",
    "\n",
    "If you take a closer look at the individual items yielded by .items(), you’ll notice that they’re really tuple objects. Let’s take a look:\n",
    "\n",
    " for item in a_dict.items():\n",
    "     print(item)\n",
    "     print(type(item))\n",
    "\n",
    "('color', 'blue')\n",
    "<class 'tuple'>\n",
    "('fruit', 'apple')\n",
    "<class 'tuple'>\n",
    "('pet', 'dog')\n",
    "<class 'tuple'>\n",
    "Once you know this, you can use tuple unpacking to iterate through the keys and values of the dictionary you are working with. To achieve this, you just need to unpack the elements of every item into two different variables representing the key and the value:\n",
    "\n",
    " for key, value in a_dict.items():\n",
    "     print(key, '->', value)\n",
    "\n",
    "color -> blue\n",
    "fruit -> apple\n",
    "pet -> dog\n",
    "Here, the variables key and value in the header of your for loop do the unpacking. Every time the loop runs, key will store the key, and value will store the value of the item that is been processed. This way, you’ll have more control over the items of the dictionary, and you’ll be able to process the keys and values separately and in a way that is more readable and Pythonic."
   ]
  },
  {
   "cell_type": "code",
   "execution_count": 235,
   "metadata": {},
   "outputs": [
    {
     "name": "stdout",
     "output_type": "stream",
     "text": [
      "Make --> Reanault\n",
      "Type --> Clio\n",
      "Engine --> Petrol\n",
      "Price --> R 160 000\n",
      "Make\n",
      "Type\n",
      "Engine\n",
      "Price\n",
      "Reanault\n",
      "Clio\n",
      "Petrol\n",
      "R 160 000\n",
      "R 160 000\n"
     ]
    }
   ],
   "source": [
    "for key, value in vehicle.items(): # key and value variable get data from vehicle.items() method everytime the for loop iterates \n",
    "    print(key, '-->', value)\n",
    "    \n",
    "    \n",
    "vehicle_keys = vehicle.keys() # Just to view dictionary key \n",
    "\n",
    "for vehicle_keys in vehicle.keys(): # Loop over vehicle keys \n",
    "    print (vehicle_keys)\n",
    "\n",
    "vehicle_value = vehicle.values() # just to view dictionary value \n",
    "\n",
    "for vehicle_value in  vehicle.values() :\n",
    "    print(vehicle_value)\n",
    "    \n",
    "print(vehicle_value)\n",
    "\n",
    "for value in vehi\n",
    "\n"
   ]
  },
  {
   "cell_type": "code",
   "execution_count": null,
   "metadata": {},
   "outputs": [],
   "source": []
  }
 ],
 "metadata": {
  "kernelspec": {
   "display_name": "Python 3",
   "language": "python",
   "name": "python3"
  },
  "language_info": {
   "codemirror_mode": {
    "name": "ipython",
    "version": 3
   },
   "file_extension": ".py",
   "mimetype": "text/x-python",
   "name": "python",
   "nbconvert_exporter": "python",
   "pygments_lexer": "ipython3",
   "version": "3.8.5"
  }
 },
 "nbformat": 4,
 "nbformat_minor": 4
}
